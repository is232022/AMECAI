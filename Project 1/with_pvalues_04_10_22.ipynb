{
 "cells": [
  {
   "cell_type": "markdown",
   "metadata": {},
   "source": [
    "# Production Technology\n",
    "\n",
    "The dataset contains `N = 441` firms observed over `T = 12` years, 1967-1978. There variables are: \n",
    "* `lcap`: Log of capital stock, $k_{it}$ \n",
    "* `lemp`: log of employment, $\\ell_{it}$ \n",
    "* `ldsa`: log of deflated sales, $y_{it}$\n",
    "* `year`: the calendar year of the observation, `year` $ = 1967, ..., 1978$, \n",
    "* `firmid`: anonymized indicator variable for the firm, $i = 1, ..., N$, with $N=441$. "
   ]
  },
  {
   "cell_type": "code",
   "execution_count": 1,
   "metadata": {},
   "outputs": [],
   "source": [
    "import pandas as pd \n",
    "import numpy as np \n",
    "import seaborn as sns\n",
    "from scipy.stats import chi2\n",
    "import scipy.stats\n",
    "from tabulate import tabulate\n",
    "from numpy import linalg as la\n",
    "import LinearDynamic_ante as lm\n",
    "#import LinearModelsWeek3 as lm\n",
    "%load_ext autoreload\n",
    "%autoreload 2"
   ]
  },
  {
   "cell_type": "code",
   "execution_count": 2,
   "metadata": {},
   "outputs": [],
   "source": [
    "dat = pd.read_csv('firms.csv')"
   ]
  },
  {
   "cell_type": "code",
   "execution_count": 3,
   "metadata": {},
   "outputs": [
    {
     "data": {
      "text/html": [
       "<div>\n",
       "<style scoped>\n",
       "    .dataframe tbody tr th:only-of-type {\n",
       "        vertical-align: middle;\n",
       "    }\n",
       "\n",
       "    .dataframe tbody tr th {\n",
       "        vertical-align: top;\n",
       "    }\n",
       "\n",
       "    .dataframe thead th {\n",
       "        text-align: right;\n",
       "    }\n",
       "</style>\n",
       "<table border=\"1\" class=\"dataframe\">\n",
       "  <thead>\n",
       "    <tr style=\"text-align: right;\">\n",
       "      <th></th>\n",
       "      <th>firmid</th>\n",
       "      <th>year</th>\n",
       "      <th>lcap</th>\n",
       "      <th>lemp</th>\n",
       "      <th>ldsa</th>\n",
       "    </tr>\n",
       "  </thead>\n",
       "  <tbody>\n",
       "    <tr>\n",
       "      <th>1813</th>\n",
       "      <td>152</td>\n",
       "      <td>1968</td>\n",
       "      <td>1.342024</td>\n",
       "      <td>1.480875</td>\n",
       "      <td>1.484999</td>\n",
       "    </tr>\n",
       "    <tr>\n",
       "      <th>276</th>\n",
       "      <td>24</td>\n",
       "      <td>1967</td>\n",
       "      <td>0.044289</td>\n",
       "      <td>0.247113</td>\n",
       "      <td>0.276631</td>\n",
       "    </tr>\n",
       "    <tr>\n",
       "      <th>1393</th>\n",
       "      <td>117</td>\n",
       "      <td>1968</td>\n",
       "      <td>1.442513</td>\n",
       "      <td>1.790217</td>\n",
       "      <td>1.802479</td>\n",
       "    </tr>\n",
       "    <tr>\n",
       "      <th>339</th>\n",
       "      <td>29</td>\n",
       "      <td>1970</td>\n",
       "      <td>-1.213090</td>\n",
       "      <td>-1.016690</td>\n",
       "      <td>-1.315920</td>\n",
       "    </tr>\n",
       "    <tr>\n",
       "      <th>1096</th>\n",
       "      <td>92</td>\n",
       "      <td>1971</td>\n",
       "      <td>-1.239200</td>\n",
       "      <td>-1.317150</td>\n",
       "      <td>-1.228270</td>\n",
       "    </tr>\n",
       "  </tbody>\n",
       "</table>\n",
       "</div>"
      ],
      "text/plain": [
       "      firmid  year      lcap      lemp      ldsa\n",
       "1813     152  1968  1.342024  1.480875  1.484999\n",
       "276       24  1967  0.044289  0.247113  0.276631\n",
       "1393     117  1968  1.442513  1.790217  1.802479\n",
       "339       29  1970 -1.213090 -1.016690 -1.315920\n",
       "1096      92  1971 -1.239200 -1.317150 -1.228270"
      ]
     },
     "execution_count": 3,
     "metadata": {},
     "output_type": "execute_result"
    }
   ],
   "source": [
    "dat.sample(5)"
   ]
  },
  {
   "cell_type": "code",
   "execution_count": 4,
   "metadata": {},
   "outputs": [
    {
     "data": {
      "text/plain": [
       "array([1967, 1968, 1969, 1970, 1971, 1972, 1973, 1974, 1975, 1976, 1977,\n",
       "       1978], dtype=int64)"
      ]
     },
     "execution_count": 4,
     "metadata": {},
     "output_type": "execute_result"
    }
   ],
   "source": [
    "dat.year.unique()"
   ]
  },
  {
   "cell_type": "markdown",
   "metadata": {},
   "source": [
    "# Descriptives"
   ]
  },
  {
   "cell_type": "code",
   "execution_count": 5,
   "metadata": {},
   "outputs": [
    {
     "data": {
      "text/html": [
       "<div>\n",
       "<style scoped>\n",
       "    .dataframe tbody tr th:only-of-type {\n",
       "        vertical-align: middle;\n",
       "    }\n",
       "\n",
       "    .dataframe tbody tr th {\n",
       "        vertical-align: top;\n",
       "    }\n",
       "\n",
       "    .dataframe thead th {\n",
       "        text-align: right;\n",
       "    }\n",
       "</style>\n",
       "<table border=\"1\" class=\"dataframe\">\n",
       "  <thead>\n",
       "    <tr style=\"text-align: right;\">\n",
       "      <th></th>\n",
       "      <th>firmid</th>\n",
       "      <th>year</th>\n",
       "      <th>lcap</th>\n",
       "      <th>lemp</th>\n",
       "      <th>ldsa</th>\n",
       "    </tr>\n",
       "  </thead>\n",
       "  <tbody>\n",
       "    <tr>\n",
       "      <th>count</th>\n",
       "      <td>5292.000000</td>\n",
       "      <td>5292.000000</td>\n",
       "      <td>5.292000e+03</td>\n",
       "      <td>5.292000e+03</td>\n",
       "      <td>5.292000e+03</td>\n",
       "    </tr>\n",
       "    <tr>\n",
       "      <th>mean</th>\n",
       "      <td>221.000000</td>\n",
       "      <td>1972.500000</td>\n",
       "      <td>-2.379856e-08</td>\n",
       "      <td>-3.248299e-08</td>\n",
       "      <td>-4.440666e-10</td>\n",
       "    </tr>\n",
       "    <tr>\n",
       "      <th>std</th>\n",
       "      <td>127.317437</td>\n",
       "      <td>3.452379</td>\n",
       "      <td>1.323176e+00</td>\n",
       "      <td>1.187237e+00</td>\n",
       "      <td>1.234902e+00</td>\n",
       "    </tr>\n",
       "    <tr>\n",
       "      <th>min</th>\n",
       "      <td>1.000000</td>\n",
       "      <td>1967.000000</td>\n",
       "      <td>-4.033590e+00</td>\n",
       "      <td>-3.382780e+00</td>\n",
       "      <td>-3.554090e+00</td>\n",
       "    </tr>\n",
       "    <tr>\n",
       "      <th>25%</th>\n",
       "      <td>111.000000</td>\n",
       "      <td>1969.750000</td>\n",
       "      <td>-9.251980e-01</td>\n",
       "      <td>-8.001460e-01</td>\n",
       "      <td>-9.190837e-01</td>\n",
       "    </tr>\n",
       "    <tr>\n",
       "      <th>50%</th>\n",
       "      <td>221.000000</td>\n",
       "      <td>1972.500000</td>\n",
       "      <td>-1.083100e-01</td>\n",
       "      <td>-1.147060e-01</td>\n",
       "      <td>-1.105555e-01</td>\n",
       "    </tr>\n",
       "    <tr>\n",
       "      <th>75%</th>\n",
       "      <td>331.000000</td>\n",
       "      <td>1975.250000</td>\n",
       "      <td>9.307292e-01</td>\n",
       "      <td>7.973080e-01</td>\n",
       "      <td>8.622255e-01</td>\n",
       "    </tr>\n",
       "    <tr>\n",
       "      <th>max</th>\n",
       "      <td>441.000000</td>\n",
       "      <td>1978.000000</td>\n",
       "      <td>4.103687e+00</td>\n",
       "      <td>3.371332e+00</td>\n",
       "      <td>3.913391e+00</td>\n",
       "    </tr>\n",
       "  </tbody>\n",
       "</table>\n",
       "</div>"
      ],
      "text/plain": [
       "            firmid         year          lcap          lemp          ldsa\n",
       "count  5292.000000  5292.000000  5.292000e+03  5.292000e+03  5.292000e+03\n",
       "mean    221.000000  1972.500000 -2.379856e-08 -3.248299e-08 -4.440666e-10\n",
       "std     127.317437     3.452379  1.323176e+00  1.187237e+00  1.234902e+00\n",
       "min       1.000000  1967.000000 -4.033590e+00 -3.382780e+00 -3.554090e+00\n",
       "25%     111.000000  1969.750000 -9.251980e-01 -8.001460e-01 -9.190837e-01\n",
       "50%     221.000000  1972.500000 -1.083100e-01 -1.147060e-01 -1.105555e-01\n",
       "75%     331.000000  1975.250000  9.307292e-01  7.973080e-01  8.622255e-01\n",
       "max     441.000000  1978.000000  4.103687e+00  3.371332e+00  3.913391e+00"
      ]
     },
     "execution_count": 5,
     "metadata": {},
     "output_type": "execute_result"
    }
   ],
   "source": [
    "dat.describe()"
   ]
  },
  {
   "cell_type": "code",
   "execution_count": 6,
   "metadata": {},
   "outputs": [
    {
     "data": {
      "image/png": "[encoded data removed]",
      "text/plain": [
       "<Figure size 432x288 with 4 Axes>"
      ]
     },
     "metadata": {
      "needs_background": "light"
     },
     "output_type": "display_data"
    }
   ],
   "source": [
    "dat[['lcap','lemp','ldsa']].hist(); "
   ]
  },
  {
   "cell_type": "code",
   "execution_count": 7,
   "metadata": {},
   "outputs": [
    {
     "data": {
      "image/png": "[encoded data removed]",
      "text/plain": [
       "<Figure size 432x288 with 1 Axes>"
      ]
     },
     "metadata": {
      "needs_background": "light"
     },
     "output_type": "display_data"
    }
   ],
   "source": [
    "sns.scatterplot(x='lemp', y='ldsa', data=dat); "
   ]
  },
  {
   "cell_type": "markdown",
   "metadata": {},
   "source": [
    "# Converting data to numpy format "
   ]
  },
  {
   "cell_type": "code",
   "execution_count": 8,
   "metadata": {},
   "outputs": [
    {
     "data": {
      "text/plain": [
       "(5292,)"
      ]
     },
     "execution_count": 8,
     "metadata": {},
     "output_type": "execute_result"
    }
   ],
   "source": [
    "dat.ldsa.values.shape"
   ]
  },
  {
   "cell_type": "code",
   "execution_count": 9,
   "metadata": {},
   "outputs": [
    {
     "name": "stdout",
     "output_type": "stream",
     "text": [
      "Data has N=441 and T=12\n"
     ]
    }
   ],
   "source": [
    "N = dat.firmid.unique().size\n",
    "T = dat.year.unique().size\n",
    "assert dat.shape[0] == N*T, f'Error: data is not a balanced panel'\n",
    "print(f'Data has N={N} and T={T}')"
   ]
  },
  {
   "cell_type": "markdown",
   "metadata": {},
   "source": [
    "Extract data from `pandas` to `numpy` arrays. "
   ]
  },
  {
   "cell_type": "code",
   "execution_count": 10,
   "metadata": {},
   "outputs": [],
   "source": [
    "y = dat.ldsa.values.reshape((N*T,1))\n",
    "\n",
    "ones = np.ones((N*T,1))\n",
    "l = dat.lemp.values.reshape((N*T,1))\n",
    "k = dat.lcap.values.reshape((N*T,1))\n",
    "x = np.hstack([ones, l, k])"
   ]
  },
  {
   "cell_type": "code",
   "execution_count": 11,
   "metadata": {},
   "outputs": [],
   "source": [
    "label_y = 'Log deflated sales'\n",
    "label_x = [\n",
    "    'Constant', \n",
    "    'Log employment', \n",
    "    'Log capital stock'\n",
    "]"
   ]
  },
  {
   "cell_type": "code",
   "execution_count": 12,
   "metadata": {},
   "outputs": [
    {
     "name": "stdout",
     "output_type": "stream",
     "text": [
      "441\n"
     ]
    }
   ],
   "source": [
    "print(N)"
   ]
  },
  {
   "cell_type": "markdown",
   "metadata": {},
   "source": [
    "# OLS"
   ]
  },
  {
   "cell_type": "code",
   "execution_count": 13,
   "metadata": {},
   "outputs": [
    {
     "name": "stdout",
     "output_type": "stream",
     "text": [
      "Pooled OLS\n",
      "Dependent variable: Log deflated sales\n",
      "\n",
      "                     Beta      Se    t-values    p_val\n",
      "-----------------  ------  ------  ----------  -------\n",
      "Constant           0.0000  0.0161      0.0000   0.5000\n",
      "Log employment     0.6778  0.0360     18.8447   0.0000\n",
      "Log capital stock  0.3028  0.0318      9.5317   0.0000\n",
      "R² = 0.914\n",
      "σ² = 0.130\n"
     ]
    }
   ],
   "source": [
    "ols_result = lm.estimate(y, x, T=T, robust_se=True, N=N)\n",
    "\n",
    "lm.print_table(\n",
    "    (label_y, label_x), ols_result, title=\"Pooled OLS\", floatfmt='.4f')"
   ]
  },
  {
   "cell_type": "code",
   "execution_count": null,
   "metadata": {},
   "outputs": [],
   "source": []
  },
  {
   "cell_type": "markdown",
   "metadata": {},
   "source": [
    "# FE"
   ]
  },
  {
   "cell_type": "code",
   "execution_count": 14,
   "metadata": {},
   "outputs": [],
   "source": [
    "# Check rank of demeaned matrix, and return its eigenvalues.\n",
    "def check_rank(x):\n",
    "    print(f'Rank of demeaned x: {la.matrix_rank(x)}')\n",
    "    lambdas, V = la.eig(x.T@x)\n",
    "    np.set_printoptions(suppress=True)  # This is just to print nicely.\n",
    "    print(f'Eigenvalues of within-transformed x: {lambdas.round(decimals=0)}')"
   ]
  },
  {
   "cell_type": "code",
   "execution_count": 15,
   "metadata": {},
   "outputs": [],
   "source": [
    "def demeaning_matrix(T):\n",
    "    Q_T = np.eye(T) - np.tile(1/T, (T, T))\n",
    "    return Q_T"
   ]
  },
  {
   "cell_type": "code",
   "execution_count": 16,
   "metadata": {},
   "outputs": [],
   "source": [
    "Q_T = demeaning_matrix(T)\n",
    "\n",
    "y_demean = lm.perm(Q_T, y)\n",
    "x_demean = lm.perm(Q_T, x)"
   ]
  },
  {
   "cell_type": "code",
   "execution_count": 17,
   "metadata": {},
   "outputs": [
    {
     "name": "stdout",
     "output_type": "stream",
     "text": [
      "Rank of demeaned x: 2\n",
      "Eigenvalues of within-transformed x: [  0.  61. 238.]\n"
     ]
    }
   ],
   "source": [
    "check_rank(x_demean)"
   ]
  },
  {
   "cell_type": "code",
   "execution_count": 18,
   "metadata": {},
   "outputs": [
    {
     "name": "stdout",
     "output_type": "stream",
     "text": [
      "[[0.02551608 0.13576148]\n",
      " [0.05351308 0.09446318]\n",
      " [0.05442008 0.02107538]\n",
      " ...\n",
      " [0.47838308 0.32242483]\n",
      " [0.58132608 0.49459083]\n",
      " [0.62999708 0.67698383]]\n",
      "['Log employment', 'Log capital stock']\n"
     ]
    }
   ],
   "source": [
    "x_demean_full = x_demean[:, 1:]\n",
    "print(x_demean_full)\n",
    "label_x_fe = label_x[1:]\n",
    "print(label_x_fe)"
   ]
  },
  {
   "cell_type": "code",
   "execution_count": 19,
   "metadata": {},
   "outputs": [
    {
     "name": "stdout",
     "output_type": "stream",
     "text": [
      "FE regression\n",
      "Dependent variable: Log deflated sales\n",
      "\n",
      "                     Beta      Se    t-values    p_val\n",
      "-----------------  ------  ------  ----------  -------\n",
      "Log employment     0.6964  0.0418     16.6568   0.0000\n",
      "Log capital stock  0.1427  0.0282      5.0664   0.0000\n",
      "R² = 0.492\n",
      "σ² = 0.017\n"
     ]
    }
   ],
   "source": [
    "fe_result = lm.estimate(\n",
    "    y_demean, x_demean_full, transform='fe', T=T, robust_se=True, N=N\n",
    ")\n",
    "\n",
    "lm.print_table(\n",
    "    (label_y, label_x_fe), \n",
    "    fe_result, title='FE regression', floatfmt='.4f'\n",
    ")"
   ]
  },
  {
   "cell_type": "markdown",
   "metadata": {},
   "source": [
    "# FD"
   ]
  },
  {
   "cell_type": "code",
   "execution_count": 20,
   "metadata": {},
   "outputs": [],
   "source": [
    "def fd_matrix(T):\n",
    "    D_T = np.eye(T) - np.eye(T, k=-1)\n",
    "    D_T = D_T[1:]\n",
    "    return D_T"
   ]
  },
  {
   "cell_type": "code",
   "execution_count": 21,
   "metadata": {},
   "outputs": [
    {
     "name": "stdout",
     "output_type": "stream",
     "text": [
      "Rank of demeaned x: 2\n",
      "Eigenvalues of within-transformed x: [38. 52.  0.]\n",
      "[[ 0.         0.027997  -0.0412983]\n",
      " [ 0.         0.000907  -0.0733878]\n",
      " [ 0.        -0.023856  -0.0455976]\n",
      " ...\n",
      " [ 0.         0.18107    0.114647 ]\n",
      " [ 0.         0.102943   0.172166 ]\n",
      " [ 0.         0.048671   0.182393 ]]\n",
      "[[ 0.027997  -0.0412983]\n",
      " [ 0.000907  -0.0733878]\n",
      " [-0.023856  -0.0455976]\n",
      " ...\n",
      " [ 0.18107    0.114647 ]\n",
      " [ 0.102943   0.172166 ]\n",
      " [ 0.048671   0.182393 ]]\n"
     ]
    }
   ],
   "source": [
    "# Transform the data.\n",
    "D_T = fd_matrix(T)\n",
    "y_diff = lm.perm(D_T, y)\n",
    "x_diff = lm.perm(D_T, x)\n",
    "\n",
    "# Again, check rank condition.\n",
    "check_rank(x_diff)\n",
    "print(x_diff)\n",
    "\n",
    "# Remember to remove linear dependent columns\n",
    "x_diff_full = x_diff[:, 1:]\n",
    "print(x_diff_full)"
   ]
  },
  {
   "cell_type": "code",
   "execution_count": 22,
   "metadata": {},
   "outputs": [
    {
     "name": "stdout",
     "output_type": "stream",
     "text": [
      "FD regression\n",
      "Dependent variable: Log deflated sales\n",
      "\n",
      "                     Beta      Se    t-values    p_val\n",
      "-----------------  ------  ------  ----------  -------\n",
      "Log employment     0.5462  0.0277     19.7080   0.0000\n",
      "Log capital stock  0.0645  0.0224      2.8836   0.0021\n",
      "R² = 0.174\n",
      "σ² = 0.014\n"
     ]
    }
   ],
   "source": [
    "fd_result = lm.estimate(y_diff, x_diff_full, T=T-1, robust_se=True, N=N)\n",
    "\n",
    "lm.print_table(\n",
    "    (label_y, label_x_fe), \n",
    "    fd_result, title='FD regression', floatfmt='.4f'\n",
    ")"
   ]
  },
  {
   "cell_type": "markdown",
   "metadata": {},
   "source": [
    "# RE"
   ]
  },
  {
   "cell_type": "code",
   "execution_count": 23,
   "metadata": {},
   "outputs": [
    {
     "name": "stdout",
     "output_type": "stream",
     "text": [
      "(1, 12)\n"
     ]
    }
   ],
   "source": [
    "#Create P\n",
    "P=np.tile(1/T, (T)).reshape(1,-1)\n",
    "print(P.shape)"
   ]
  },
  {
   "cell_type": "code",
   "execution_count": 24,
   "metadata": {},
   "outputs": [],
   "source": [
    "#Mean x and y using perm and P\n",
    "y_re = lm.perm(P, y)\n",
    "x_re = lm.perm(P, x)"
   ]
  },
  {
   "cell_type": "code",
   "execution_count": 25,
   "metadata": {},
   "outputs": [
    {
     "name": "stdout",
     "output_type": "stream",
     "text": [
      "BE\n",
      "Dependent variable: Log deflated sales\n",
      "\n",
      "                     Beta      Se    t-values    p_val\n",
      "-----------------  ------  ------  ----------  -------\n",
      "Constant           0.0000  0.0161      0.0000   0.5000\n",
      "Log employment     0.6778  0.0360     18.8447   0.0000\n",
      "Log capital stock  0.3028  0.0318      9.5317   0.0000\n",
      "R² = 0.914\n",
      "σ² = 0.130\n"
     ]
    }
   ],
   "source": [
    "#regress y_mean on x_mean, N rows not NT\n",
    "be_result = lm.estimate(y_re, x_re, T=T, robust_se=True, N=N)\n",
    "\n",
    "lm.print_table(\n",
    "    (label_y, label_x), ols_result, title=\"BE\", floatfmt='.4f')"
   ]
  },
  {
   "cell_type": "code",
   "execution_count": 26,
   "metadata": {},
   "outputs": [],
   "source": [
    "sigma2_u = fe_result.get('sigma2')\n",
    "sigma2_w = be_result.get('sigma2')\n",
    "sigma2_c = sigma2_w - (1/T)*sigma2_u"
   ]
  },
  {
   "cell_type": "code",
   "execution_count": 27,
   "metadata": {},
   "outputs": [
    {
     "name": "stdout",
     "output_type": "stream",
     "text": [
      "0.8871848347640463\n"
     ]
    }
   ],
   "source": [
    "_lambda = 1 - np.sqrt(sigma2_u / (sigma2_u + T*sigma2_c))  \n",
    "print(_lambda)"
   ]
  },
  {
   "cell_type": "code",
   "execution_count": 28,
   "metadata": {},
   "outputs": [],
   "source": [
    "C_T= np.eye(T)-_lambda*P "
   ]
  },
  {
   "cell_type": "code",
   "execution_count": 29,
   "metadata": {},
   "outputs": [],
   "source": [
    "y_qmean = lm.perm(C_T, y)\n",
    "x_qmean = lm.perm(C_T, x)"
   ]
  },
  {
   "cell_type": "code",
   "execution_count": 30,
   "metadata": {},
   "outputs": [
    {
     "name": "stdout",
     "output_type": "stream",
     "text": [
      "RE\n",
      "Dependent variable: Log deflated sales\n",
      "\n",
      "                     Beta      Se    t-values    p_val\n",
      "-----------------  ------  ------  ----------  -------\n",
      "Constant           0.0000  0.0169      0.0000   0.5000\n",
      "Log employment     0.7235  0.0330     21.9034   0.0000\n",
      "Log capital stock  0.1852  0.0249      7.4265   0.0000\n",
      "R² = 0.649\n",
      "σ² = 0.018\n",
      "λ = 0.887\n"
     ]
    }
   ],
   "source": [
    "re_result = lm.estimate(y_qmean, x_qmean, T=T, robust_se=True, N=N)\n",
    "\n",
    "lm.print_table(\n",
    "    (label_y, label_x), re_result, _lambda=_lambda, title=\"RE\", floatfmt='.4f')"
   ]
  },
  {
   "cell_type": "markdown",
   "metadata": {},
   "source": [
    "# Hausman test"
   ]
  },
  {
   "cell_type": "code",
   "execution_count": 31,
   "metadata": {},
   "outputs": [],
   "source": [
    "# Follow the steps in the question\n",
    "hat_diff = fe_result.get('b_hat')-re_result.get('b_hat')[1:]\n",
    "cov_diff = fe_result.get('cov') - re_result.get('cov')[1:,1:]\n",
    "H = hat_diff.T @ la.inv(cov_diff) @ hat_diff\n",
    "\n",
    "# Antal frihedsgrader er rank på cov_diff\n",
    "\n",
    "# This calculates the p-value of the Hausman test.\n",
    "p_val = chi2.sf(H.item(), 2)"
   ]
  },
  {
   "cell_type": "code",
   "execution_count": 32,
   "metadata": {},
   "outputs": [
    {
     "name": "stdout",
     "output_type": "stream",
     "text": [
      "[[0.72345074]\n",
      " [0.1851568 ]]\n",
      "[[0.00000003]\n",
      " [0.72345074]\n",
      " [0.1851568 ]]\n"
     ]
    }
   ],
   "source": [
    "f = re_result.get('b_hat')[1:]\n",
    "print(f)\n",
    "d = re_result.get('b_hat')[:]\n",
    "print(d)"
   ]
  },
  {
   "cell_type": "code",
   "execution_count": 33,
   "metadata": {},
   "outputs": [
    {
     "name": "stdout",
     "output_type": "stream",
     "text": [
      "[[ 0.00109092 -0.00065354]\n",
      " [-0.00065354  0.00062161]]\n"
     ]
    }
   ],
   "source": [
    "f = re_result.get('cov')[1:,1:]\n",
    "print(f)"
   ]
  },
  {
   "cell_type": "code",
   "execution_count": 34,
   "metadata": {},
   "outputs": [
    {
     "name": "stdout",
     "output_type": "stream",
     "text": [
      "  b_fe    b_re    b_diff\n",
      "------  ------  --------\n",
      "0.6964  0.7235   -0.0271\n",
      "0.1427  0.1852   -0.0425\n",
      "The Hausman test statistic is: 11.18, with p-value: 0.00.\n"
     ]
    }
   ],
   "source": [
    "# This code takes the results that you have made, and prints a nice looking table.\n",
    "def print_h_test(fe_result, re_result, hat_diff, p_val):\n",
    "    table = []\n",
    "    for i in range(len(hat_diff)):\n",
    "        row = [\n",
    "            fe_result['b_hat'][i], re_result['b_hat'][1:][i], hat_diff[i]\n",
    "        ]\n",
    "        table.append(row)\n",
    "\n",
    "    print(tabulate(\n",
    "        table, headers=['b_fe', 'b_re', 'b_diff'], floatfmt='.4f'\n",
    "        ))\n",
    "    print(f'The Hausman test statistic is: {H.item():.2f}, with p-value: {p_val:.2f}.')\n",
    "print_h_test(fe_result, re_result, hat_diff, p_val)"
   ]
  },
  {
   "cell_type": "markdown",
   "metadata": {},
   "source": [
    "# Testing for CRS, $\\beta_{k} + \\beta_{l} = 1$ "
   ]
  },
  {
   "cell_type": "markdown",
   "metadata": {},
   "source": [
    "Vi skal teste for <br> \n",
    "$H_0 : R\\beta = r$  <br>\n",
    "$R=[1, 1]$, og $r=1$ "
   ]
  },
  {
   "cell_type": "code",
   "execution_count": 35,
   "metadata": {},
   "outputs": [
    {
     "name": "stdout",
     "output_type": "stream",
     "text": [
      "(1, 2)\n",
      "[[1 1]]\n",
      "1\n"
     ]
    }
   ],
   "source": [
    "R = np.array([1,1]).reshape(1,-1)\n",
    "print(R.shape)\n",
    "print(R)\n",
    "r=1\n",
    "print(r)"
   ]
  },
  {
   "cell_type": "markdown",
   "metadata": {},
   "source": [
    "# CRS-test POLS"
   ]
  },
  {
   "cell_type": "code",
   "execution_count": 36,
   "metadata": {},
   "outputs": [
    {
     "name": "stdout",
     "output_type": "stream",
     "text": [
      "[[0.67782694]\n",
      " [0.30275923]]\n",
      "The Wald test statistic is: 2.56, with p-value: 0.11.\n"
     ]
    }
   ],
   "source": [
    "b_hat = ols_result.get('b_hat')[1:]\n",
    "a_var = ols_result.get('cov')[1:,1:]\n",
    "print(b_hat)\n",
    "\n",
    "W = (R@b_hat -r).T @ la.inv(R@ a_var @ R.T) @ (R@ b_hat -r)\n",
    "\n",
    "# This calculates the p-value of the Wald test.\n",
    "p_val = chi2.sf(W.item(), 1)\n",
    "print(f'The Wald test statistic is: {W.item():.2f}, with p-value: {p_val:.2f}.')"
   ]
  },
  {
   "cell_type": "code",
   "execution_count": 37,
   "metadata": {},
   "outputs": [
    {
     "data": {
      "text/plain": [
       "0.99968617"
      ]
     },
     "execution_count": 37,
     "metadata": {},
     "output_type": "execute_result"
    }
   ],
   "source": [
    "0.67782694+0.0101+0.30275923+0.0090"
   ]
  },
  {
   "cell_type": "code",
   "execution_count": 38,
   "metadata": {},
   "outputs": [
    {
     "data": {
      "text/plain": [
       "0.98058617"
      ]
     },
     "execution_count": 38,
     "metadata": {},
     "output_type": "execute_result"
    }
   ],
   "source": [
    "0.67782694+0.30275923"
   ]
  },
  {
   "cell_type": "markdown",
   "metadata": {},
   "source": [
    "# CRS-test FE"
   ]
  },
  {
   "cell_type": "code",
   "execution_count": 39,
   "metadata": {},
   "outputs": [
    {
     "name": "stdout",
     "output_type": "stream",
     "text": [
      "[[0.69638705]\n",
      " [0.14266302]]\n",
      "[[20.12845884]]\n",
      "The Wald test statistic is: 20.13, with p-value: 0.00.\n"
     ]
    }
   ],
   "source": [
    "b_hat = fe_result.get('b_hat')\n",
    "a_var = fe_result.get('cov')\n",
    "print(b_hat)\n",
    "\n",
    "W = (R@b_hat -r).T @ la.inv(R@ a_var @ R.T) @ (R@ b_hat -r)\n",
    "print(W)\n",
    "\n",
    "# This calculates the p-value of the Wald test.\n",
    "p_val = chi2.sf(W.item(), 1)\n",
    "print(f'The Wald test statistic is: {W.item():.2f}, with p-value: {p_val:.2f}.')"
   ]
  },
  {
   "cell_type": "markdown",
   "metadata": {},
   "source": [
    "# CRS-test FD"
   ]
  },
  {
   "cell_type": "code",
   "execution_count": 40,
   "metadata": {},
   "outputs": [
    {
     "name": "stdout",
     "output_type": "stream",
     "text": [
      "[[0.54615461]\n",
      " [0.06448113]]\n",
      "[[164.42713216]]\n",
      "The Wald test statistic is: 164.43, with p-value: 0.00.\n"
     ]
    }
   ],
   "source": [
    "b_hat = fd_result.get('b_hat')\n",
    "a_var = fd_result.get('cov')\n",
    "print(b_hat)\n",
    "\n",
    "W = (R@b_hat -r).T @ la.inv(R@ a_var @ R.T) @ (R@ b_hat -r)\n",
    "print(W)\n",
    "\n",
    "# This calculates the p-value of the Wald test.\n",
    "p_val = chi2.sf(W.item(), 1)\n",
    "print(f'The Wald test statistic is: {W.item():.2f}, with p-value: {p_val:.2f}.')"
   ]
  },
  {
   "cell_type": "markdown",
   "metadata": {},
   "source": [
    "# CRS-test RE"
   ]
  },
  {
   "cell_type": "code",
   "execution_count": 41,
   "metadata": {},
   "outputs": [
    {
     "name": "stdout",
     "output_type": "stream",
     "text": [
      "[[0.72345074]\n",
      " [0.1851568 ]]\n",
      "[[20.60052376]]\n",
      "The Wald test statistic is: 20.60, with p-value: 0.00.\n"
     ]
    }
   ],
   "source": [
    "b_hat = re_result.get('b_hat')[1:]\n",
    "a_var = re_result.get('cov')[1:,1:]\n",
    "print(b_hat)\n",
    "\n",
    "W = (R@b_hat -r).T @ la.inv(R@ a_var @ R.T) @ (R@ b_hat -r)\n",
    "print(W)\n",
    "\n",
    "# This calculates the p-value of the Wald test.\n",
    "p_val = chi2.sf(W.item(), 1)\n",
    "print(f'The Wald test statistic is: {W.item():.2f}, with p-value: {p_val:.2f}.')"
   ]
  },
  {
   "cell_type": "markdown",
   "metadata": {},
   "source": [
    "# Skema med de samlede koefficienter"
   ]
  },
  {
   "cell_type": "code",
   "execution_count": 42,
   "metadata": {},
   "outputs": [
    {
     "name": "stdout",
     "output_type": "stream",
     "text": [
      "                     b_ols    b_fe    b_fd    b_re\n",
      "-----------------  -------  ------  ------  ------\n",
      "Log employment      0.6778  0.6964  0.5462  0.7235\n",
      "Log capital stock   0.3028  0.1427  0.0645  0.1852\n"
     ]
    }
   ],
   "source": [
    "def print_test(ols_result, fe_result, fd_result, re_result):\n",
    "    table = []\n",
    "    for i, name in enumerate(label_x_fe):\n",
    "        row = [\n",
    "            name,\n",
    "            ols_result['b_hat'][1:][i], fe_result['b_hat'][i], fd_result['b_hat'][i], re_result['b_hat'][1:][i]\n",
    "        ]\n",
    "        table.append(row)\n",
    "    print(tabulate(\n",
    "        table, headers=['b_ols','b_fe', 'b_fd', 'b_re'], floatfmt='.4f'\n",
    "        ))\n",
    "\n",
    "print_test(ols_result, fe_result, fd_result, re_result)\n",
    "\n"
   ]
  },
  {
   "cell_type": "code",
   "execution_count": 43,
   "metadata": {},
   "outputs": [
    {
     "data": {
      "text/html": [
       "<div>\n",
       "<style scoped>\n",
       "    .dataframe tbody tr th:only-of-type {\n",
       "        vertical-align: middle;\n",
       "    }\n",
       "\n",
       "    .dataframe tbody tr th {\n",
       "        vertical-align: top;\n",
       "    }\n",
       "\n",
       "    .dataframe thead th {\n",
       "        text-align: right;\n",
       "    }\n",
       "</style>\n",
       "<table border=\"1\" class=\"dataframe\">\n",
       "  <thead>\n",
       "    <tr style=\"text-align: right;\">\n",
       "      <th></th>\n",
       "      <th>b_ols</th>\n",
       "      <th>b_fe</th>\n",
       "      <th>b_fd</th>\n",
       "      <th>b_re</th>\n",
       "    </tr>\n",
       "  </thead>\n",
       "  <tbody>\n",
       "    <tr>\n",
       "      <th>Log employment</th>\n",
       "      <td>0.678</td>\n",
       "      <td>0.696</td>\n",
       "      <td>0.546</td>\n",
       "      <td>0.723</td>\n",
       "    </tr>\n",
       "    <tr>\n",
       "      <th>Log capital stock</th>\n",
       "      <td>0.303</td>\n",
       "      <td>0.143</td>\n",
       "      <td>0.064</td>\n",
       "      <td>0.185</td>\n",
       "    </tr>\n",
       "  </tbody>\n",
       "</table>\n",
       "</div>"
      ],
      "text/plain": [
       "                   b_ols   b_fe   b_fd   b_re\n",
       "Log employment     0.678  0.696  0.546  0.723\n",
       "Log capital stock  0.303  0.143  0.064  0.185"
      ]
     },
     "execution_count": 43,
     "metadata": {},
     "output_type": "execute_result"
    }
   ],
   "source": [
    "ar1_res=pd.DataFrame([ols_result['b_hat'][1:].flatten(), fe_result['b_hat'].flatten(), fd_result['b_hat'].flatten(), re_result['b_hat'][1:].flatten()], \n",
    "             index=['b_ols','b_fe', 'b_fd', 'b_re'], columns=label_x_fe).T\n",
    "\n",
    "ar1_res.round(3)"
   ]
  },
  {
   "cell_type": "code",
   "execution_count": 44,
   "metadata": {},
   "outputs": [
    {
     "data": {
      "text/plain": [
       "'\\\\begin{tabular}{lrrrr}\\n{} & {b_ols} & {b_fe} & {b_fd} & {b_re} \\\\\\\\\\nLog employment & 0.678000 & 0.696000 & 0.546000 & 0.723000 \\\\\\\\\\nLog capital stock & 0.303000 & 0.143000 & 0.064000 & 0.185000 \\\\\\\\\\n\\\\end{tabular}\\n'"
      ]
     },
     "execution_count": 44,
     "metadata": {},
     "output_type": "execute_result"
    }
   ],
   "source": [
    "# Make latex table\n",
    "(ar1_res.round(3)).style.to_latex()"
   ]
  }
 ],
 "metadata": {
  "kernelspec": {
   "display_name": "Python 3 (ipykernel)",
   "language": "python",
   "name": "python3"
  },
  "language_info": {
   "codemirror_mode": {
    "name": "ipython",
    "version": 3
   },
   "file_extension": ".py",
   "mimetype": "text/x-python",
   "name": "python",
   "nbconvert_exporter": "python",
   "pygments_lexer": "ipython3",
   "version": "3.9.7"
  },
  "vscode": {
   "interpreter": {
    "hash": "2f28796849cc7d0dfb7168fb91405d73a8cccecd280e63fee6edce8a728c9dcc"
   }
  }
 },
 "nbformat": 4,
 "nbformat_minor": 4
}
